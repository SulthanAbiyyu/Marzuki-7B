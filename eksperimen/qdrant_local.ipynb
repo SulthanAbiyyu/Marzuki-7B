{
 "cells": [
  {
   "cell_type": "code",
   "execution_count": 15,
   "metadata": {},
   "outputs": [],
   "source": [
    "from langchain.embeddings import HuggingFaceEmbeddings\n",
    "from langchain.vectorstores import Qdrant\n",
    "from langchain.document_loaders import PyPDFLoader\n",
    "from langchain.text_splitter import RecursiveCharacterTextSplitter\n",
    "from langchain.chains import RetrievalQA"
   ]
  },
  {
   "cell_type": "code",
   "execution_count": 3,
   "metadata": {},
   "outputs": [],
   "source": [
    "loader = PyPDFLoader(\"../coba_qa_instruct/Kurikulum Teknik Informatika - FILKOM 2020 v1.9.pdf\")\n",
    "documents = loader.load()"
   ]
  },
  {
   "cell_type": "code",
   "execution_count": 11,
   "metadata": {},
   "outputs": [],
   "source": [
    "text_splitter = RecursiveCharacterTextSplitter(\n",
    "    chunk_size=1000,\n",
    "    chunk_overlap=200,\n",
    "    length_function=len,\n",
    "    is_separator_regex = False,\n",
    ")\n",
    "\n",
    "docs = text_splitter.split_documents(documents)"
   ]
  },
  {
   "cell_type": "code",
   "execution_count": 12,
   "metadata": {},
   "outputs": [],
   "source": [
    "embeddings = HuggingFaceEmbeddings(\n",
    "    model_name = \"firqaaa/indo-sentence-bert-base\",\n",
    "    cache_folder = \"./cache-indo-sentence/\"\n",
    ")"
   ]
  },
  {
   "cell_type": "code",
   "execution_count": 14,
   "metadata": {},
   "outputs": [],
   "source": [
    "qdrant = Qdrant.from_documents(\n",
    "    docs,\n",
    "    embeddings,\n",
    "    path=\"./local_qdrant\",\n",
    "    collection_name=\"kurikulum-tif\",\n",
    ")"
   ]
  },
  {
   "cell_type": "code",
   "execution_count": 17,
   "metadata": {},
   "outputs": [
    {
     "data": {
      "text/plain": [
       "[Document(page_content='di dunia nyata yang menarik, khususnya masalah di dunia pendidikan. Selain itu, mata kuliah ini dirancang sebagai pengantar sains data dalam konteks pemrograman menggunakan bahasa pemrograman Python. CAPAIAN PEMBELAJARAN MATA KULIAH (CPMK) M1 Mampu mendeskripsikan dan menjelaskan tentang data, perjalanan data, dan bagaimana mengeksplorasi data M2 Mampu mendeskripsikan dan menjelaskan tentang sains data   M3 Mampu mendeskripsikan dan menjelaskan konsep utama, alat, algoritme, dan aplikasi sains data  M4 Mampu menjelaskan metodologi sains data', metadata={'source': '../coba_qa_instruct//Kurikulum Teknik Informatika - FILKOM 2020 v1.9.pdf', 'page': 112}),\n",
       " Document(page_content='Algoritma dan Struktur Data  NAMA MATA KULIAH Nama Pemrosesan Bahasa Alami Kode MK CIF62055 Kredit (sks) 3 Semester Genap DESKRIPSI MATA KULIAH Mata kuliah ini didesain untuk membantu mahasiswa dalam mempelajari dasar-dasar pemrosesan bahasa alami atau natural language processing (NLP) supaya dapat memahami tugas-tugas NLP antara lain natural language understanding, natural language generation bahkan  natural language inference yang mencakup POS tagging kata, ekstraksi informasi, penghilangan ambiguitas makna (word sense disambiguation), parsing probabilistik, pencarian informasi, dan penerapannya baik pada aplikasi yang ada seperti analisis sentimen, question answering system, dll. maupun untuk pengembangan implementasinya.  CAPAIAN PEMBELAJARAN MATA KULIAH (CPMK) M1 Memahami dasar-dasar, teori, dan aplikasi pemrosesan bahasa alami/natural language processing (NLP) M2 Menerapkan teori dan algoritme yang diperlukan untuk pemrosesan bahasa alami/natural language processing (NLP) dalam', metadata={'source': '../coba_qa_instruct//Kurikulum Teknik Informatika - FILKOM 2020 v1.9.pdf', 'page': 110}),\n",
       " Document(page_content='41  DESKRIPSI MATA KULIAH Pemrograman Berorientasi Objek merupakan mata kuliah yang wajib dikuasai oleh mahasiswa Program Studi Teknik Informatika. Pemrograman Berorientasi Objek ini memberikan pengetahuan tentang konsep pemrograman berorientasi objek, seperti class, object, enkapsulasi, pewarisan dan polimorfisme serta menerapkannya ke dalam bahasa pemrograman pada permasalahan komputasi sederhana. Mata kuliah ini menjadi pondasi dan prasyarat untuk mata kuliah di semester berikutnya. CAPAIAN PEMBELAJARAN MATA KULIAH (CPMK) M1 Mahasiswa mampu memahami konsep dasar pemrograman berorientasi objek, pewarisan, polimorfisme M2 Mahasiswa mampu memahami konsep enkapsulasi, hak akses dan collection M3 Mahasiswa mampu memahami dan menggunakan class abstrak, interface, exception dan generic class  M4 Mahasiswa mampu membuat program dengan menggunakan konsep pemrograman berorientasi objek. SUB CAPAIAN PEMBELAJARAN MATA KULIAH (Sub-CPMK) L1 Mahasiswa mampu memahami konsep dasar pemrograman', metadata={'source': '../coba_qa_instruct//Kurikulum Teknik Informatika - FILKOM 2020 v1.9.pdf', 'page': 48}),\n",
       " Document(page_content='Muka + 1 SKS Praktikum) Semester Genap DESKRIPSI MATA KULIAH Dalam mata kuliah ini mahasiswa diberikan pemahaman tentang cara menentukan serta mengimplementasikan struktur data dan algoritma yang tepat untuk menyelesaikan suatu masalah tertentu', metadata={'source': '../coba_qa_instruct//Kurikulum Teknik Informatika - FILKOM 2020 v1.9.pdf', 'page': 48})]"
      ]
     },
     "execution_count": 17,
     "metadata": {},
     "output_type": "execute_result"
    }
   ],
   "source": [
    "query = \"Apa saja yang dipelajari pada mata kuliah pemrosesan bahasa alami?\"\n",
    "found_docs = qdrant.similarity_search(query)\n",
    "found_docs"
   ]
  },
  {
   "cell_type": "code",
   "execution_count": 21,
   "metadata": {},
   "outputs": [
    {
     "name": "stderr",
     "output_type": "stream",
     "text": [
      "/data/home/abiyyu/miniconda3/envs/biyu/lib/python3.11/site-packages/langchain/llms/openai.py:216: UserWarning: You are trying to use a chat model. This way of initializing it is no longer supported. Instead, please use: `from langchain.chat_models import ChatOpenAI`\n",
      "  warnings.warn(\n",
      "/data/home/abiyyu/miniconda3/envs/biyu/lib/python3.11/site-packages/langchain/llms/openai.py:811: UserWarning: You are trying to use a chat model. This way of initializing it is no longer supported. Instead, please use: `from langchain.chat_models import ChatOpenAI`\n",
      "  warnings.warn(\n"
     ]
    }
   ],
   "source": [
    "from langchain.llms import OpenAI\n",
    "import getpass\n",
    "import os\n",
    "\n",
    "os.environ['OPENAI_API_KEY'] = getpass.getpass('OpenAI API Key:')\n",
    "\n",
    "llm = OpenAI(\n",
    "    model_name=\"gpt-3.5-turbo\",\n",
    ")\n",
    "qa = RetrievalQA.from_chain_type(llm=llm, chain_type=\"stuff\", retriever=qdrant.as_retriever())"
   ]
  },
  {
   "cell_type": "code",
   "execution_count": 23,
   "metadata": {},
   "outputs": [
    {
     "data": {
      "text/plain": [
       "'Pada mata kuliah pemrosesan bahasa alami, dipelajari dasar-dasar pemrosesan bahasa alami, seperti natural language understanding, natural language generation, dan natural language inference. Juga dipelajari berbagai tugas NLP, termasuk POS tagging kata, ekstraksi informasi, penghilangan ambiguitas makna, parsing probabilistik, dan pencarian informasi. Mata kuliah ini juga membahas aplikasi NLP seperti analisis sentimen dan question answering system.'"
      ]
     },
     "execution_count": 23,
     "metadata": {},
     "output_type": "execute_result"
    }
   ],
   "source": [
    "qa.run(\"Apa saja yang dipelajari pada mata kuliah pemrosesan bahasa alami?\")"
   ]
  },
  {
   "cell_type": "code",
   "execution_count": 26,
   "metadata": {},
   "outputs": [
    {
     "data": {
      "text/plain": [
       "'Pengarah tim penyusun kurikulum adalah Wayan Firdaus Mahmudy, S.Si., M.T., Ph.D.'"
      ]
     },
     "execution_count": 26,
     "metadata": {},
     "output_type": "execute_result"
    }
   ],
   "source": [
    "qa.run(\"Siapa pengarah tim penyusun kurikulum? jawab dengan bahasa indonesia!\")"
   ]
  },
  {
   "cell_type": "code",
   "execution_count": 28,
   "metadata": {},
   "outputs": [
    {
     "name": "stdout",
     "output_type": "stream",
     "text": [
      "Tim penyusun kurikulum terdiri dari:\n",
      "- Pengarah Wayan Firdaus Mahmudy, S.Si., M.T., Ph.D.\n",
      "- Penanggung Jawab Achmad Basuki, S.T., M.MG., PhD.\n",
      "- Ketua Adhitya Bhawiyuga, S.Kom., M.Sc.\n",
      "- Anggota Tri Astoto Kurniawan, S.T., M.T., Ph.D.\n",
      "- Agus Wahyu Widodo, S.T., M.Cs.\n",
      "- Achmad Arwan, S.Kom., M.Kom.\n",
      "- Agi Putra Kharisma, S.T., M.T.\n",
      "- Drs. Muh. Arif Rahman, M.Kom.\n",
      "- Putra Pandu Adikara, S.Kom., M.Kom.\n",
      "- Ratih Kartika Dewi, S.T., M.Kom.\n",
      "- Sigit Adinugroho, S.Kom., M.Sc.\n",
      "- Yuita Arum Sari, S.Kom., M.Kom.\n",
      "- Komang Candra Brata, S.Kom., M.T., M.Sc.\n",
      "- Adam Hendra Brata, S.Kom., M.T., M.Sc.\n"
     ]
    }
   ],
   "source": [
    "print(qa.run(\"Siapa saja tim penyusun kurikulum? jawab dengan bahasa indonesia!\"))"
   ]
  }
 ],
 "metadata": {
  "kernelspec": {
   "display_name": "biyu",
   "language": "python",
   "name": "python3"
  },
  "language_info": {
   "codemirror_mode": {
    "name": "ipython",
    "version": 3
   },
   "file_extension": ".py",
   "mimetype": "text/x-python",
   "name": "python",
   "nbconvert_exporter": "python",
   "pygments_lexer": "ipython3",
   "version": "3.11.5"
  }
 },
 "nbformat": 4,
 "nbformat_minor": 2
}
