{
 "cells": [
  {
   "cell_type": "code",
   "execution_count": 2,
   "metadata": {},
   "outputs": [],
   "source": [
    "from langchain.embeddings import HuggingFaceEmbeddings\n",
    "from langchain.vectorstores import Qdrant\n",
    "from langchain.document_loaders import PyPDFLoader\n",
    "from langchain.text_splitter import RecursiveCharacterTextSplitter\n",
    "from langchain.chains import RetrievalQA\n",
    "\n",
    "import glob"
   ]
  },
  {
   "cell_type": "code",
   "execution_count": 9,
   "metadata": {},
   "outputs": [
    {
     "name": "stdout",
     "output_type": "stream",
     "text": [
      "248/248\n",
      "47/295\n",
      "129/424\n"
     ]
    }
   ],
   "source": [
    "pdfs = glob.glob(\"../pdfs/*.pdf\")\n",
    "\n",
    "documents = []\n",
    "for pdf in pdfs:\n",
    "    _loader = PyPDFLoader(pdf).load()\n",
    "    documents += _loader\n",
    "    print(f\"{len(_loader)}/{len(documents)}\")\n",
    "    "
   ]
  },
  {
   "cell_type": "code",
   "execution_count": 12,
   "metadata": {},
   "outputs": [],
   "source": [
    "text_splitter = RecursiveCharacterTextSplitter(\n",
    "    chunk_size=1000,\n",
    "    chunk_overlap=200,\n",
    "    length_function=len,\n",
    "    is_separator_regex = False,\n",
    ")\n",
    "\n",
    "docs = text_splitter.split_documents(documents)"
   ]
  },
  {
   "cell_type": "code",
   "execution_count": 10,
   "metadata": {},
   "outputs": [],
   "source": [
    "embeddings = HuggingFaceEmbeddings(\n",
    "    model_name = \"firqaaa/indo-sentence-bert-base\",\n",
    "    cache_folder = \"./cache-indo-sentence/\"\n",
    ")"
   ]
  },
  {
   "cell_type": "code",
   "execution_count": 13,
   "metadata": {},
   "outputs": [],
   "source": [
    "qdrant = Qdrant.from_documents(\n",
    "    docs,\n",
    "    embeddings,\n",
    "    path=\"./local_qdrant_multi\",\n",
    "    collection_name=\"dokumen-filkom\",\n",
    ")"
   ]
  },
  {
   "cell_type": "code",
   "execution_count": 22,
   "metadata": {},
   "outputs": [],
   "source": [
    "import getpass\n",
    "import os\n",
    "\n",
    "os.environ['OPENAI_API_KEY'] = getpass.getpass('OpenAI API Key:')"
   ]
  },
  {
   "cell_type": "markdown",
   "metadata": {},
   "source": [
    "### Simple Retriever"
   ]
  },
  {
   "cell_type": "code",
   "execution_count": 111,
   "metadata": {},
   "outputs": [
    {
     "name": "stderr",
     "output_type": "stream",
     "text": [
      "/data/home/abiyyu/miniconda3/envs/biyu/lib/python3.11/site-packages/langchain/llms/openai.py:216: UserWarning: You are trying to use a chat model. This way of initializing it is no longer supported. Instead, please use: `from langchain.chat_models import ChatOpenAI`\n",
      "  warnings.warn(\n",
      "/data/home/abiyyu/miniconda3/envs/biyu/lib/python3.11/site-packages/langchain/llms/openai.py:811: UserWarning: You are trying to use a chat model. This way of initializing it is no longer supported. Instead, please use: `from langchain.chat_models import ChatOpenAI`\n",
      "  warnings.warn(\n"
     ]
    }
   ],
   "source": [
    "from langchain.llms import OpenAI\n",
    "from langchain.retrievers.multi_query import MultiQueryRetriever\n",
    "from langchain.prompts import PromptTemplate\n",
    "from langchain.chains import LLMChain\n",
    "\n",
    "llm = OpenAI(\n",
    "    model_name=\"gpt-3.5-turbo\",\n",
    ")\n",
    "\n",
    "QA_PROMPT_1 = PromptTemplate(\n",
    "    input_variables=[\"query\", \"contexts\"],\n",
    "    template=\"\"\"Anda adalah chatbot Universitas Brawijaya yang tugasnya adalah membantu \\\n",
    "        pertanyaan dari tamu. Apabila suatu pertanyaan tidak dapat dijawab dari \\\n",
    "        informasi yang diberikan, maka jawab dengan \"Saya Tidak Bisa Menjawab Pertanyaan Di Luar Universitas Brawijaya\".\n",
    "\n",
    "    Konteks:\n",
    "    {contexts}\n",
    "\n",
    "    Pertanyaan: \\n{query}\n",
    "    Jawaban: \\n\"\"\",\n",
    ")\n",
    "\n",
    "qa_chain = LLMChain(llm=llm, prompt=QA_PROMPT_1)\n",
    "\n",
    "def ask_1 (query):\n",
    "    docs = qdrant.similarity_search(query, k=5)\n",
    "    answers = qa_chain.run({\n",
    "        \"query\": query,\n",
    "        \"contexts\": \"\\n---\\n\".join([d.page_content for d in docs])\n",
    "    })\n",
    "    \n",
    "    return answers, docs"
   ]
  },
  {
   "cell_type": "code",
   "execution_count": 132,
   "metadata": {},
   "outputs": [
    {
     "name": "stdout",
     "output_type": "stream",
     "text": [
      "A1: Kriteria penilaian seminar hasil adalah sebagai berikut:\n",
      "1. Sistematika Presentasi (A): menilai kelengkapan presentasi yang disusun mahasiswa. Kelengkapan presentasi meliputi: Latar Belakang, Tujuan, Rumusan Masalah, Tinjauan Pustaka, Landasan teori, Metodologi Penelitian, Pembahasan hasil, Kesimpulan dan Saran.\n",
      "2. Kemampuan menjelaskan poin-poin penting (B): menilai kemampuan mahasiswa dalam menjelaskan poin-poin penting meliputi: Latar Belakang, Tujuan, Rumusan Masalah, Tinjauan Pustaka, Landasan Teori, Metodologi Penelitian, Pembahasan Hasil, Kesimpulan dan Saran.\n",
      "3. Teknik presentasi (C): menilai teknik presentasi mahasiswa meliputi: kejelasan suara, artikulasi, intonasi, kepercayaan diri, dan kemampuan mahasiswa dalam menarik perhatian peserta sidang.\n",
      "\n",
      "Apabila pertanyaan Anda tidak terkait dengan Universitas Brawijaya, maka jawabannya adalah \"Saya Tidak Bisa Menjawab Pertanyaan Di Luar Universitas Brawijaya\".\n",
      "A2: Jumlah SKS yang harus diselesaikan oleh seorang mahasiswa agar dikatakan lulus tidak dijelaskan dalam informasi yang diberikan. Saya tidak bisa menjawab pertanyaan di luar Universitas Brawijaya.\n",
      "A3: Proses transfer kredit dan pengakuan kredit adalah proses dimana mahasiswa dapat mentransfer kredit atau mengakui kredit yang telah diperoleh dari kegiatan pembelajaran di luar program studi atau kegiatan merdeka belajar. Proses transfer kredit dilakukan dengan melampirkan dokumen hasil penilaian atau Kartu Hasil Studi (KHS) dari program studi tujuan yang telah disahkan. Sementara itu, proses pengakuan kredit dilakukan oleh Ketua Program Studi atau Komite penilai yang ditugaskan oleh Dekan berdasarkan dokumen hasil penilaian kegiatan merdeka belajar tersebut. Kredit dan nilai yang diperoleh dari kegiatan merdeka belajar dapat diakui dan dicantumkan pada transkrip nilai mahasiswa serta dapat menjadi bagian dari syarat minimal kelulusan program sarjana.\n",
      "A4: Saya Tidak Bisa Menjawab Pertanyaan Di Luar Universitas Brawijaya.\n",
      "A5: Peraturan tentang kecurangan dan sanksi di Universitas Brawijaya adalah sebagai berikut:\n",
      "\n",
      "1. Mahasiswa yang melakukan kecurangan atau plagiarisme dalam pembuatan Tugas Akhir, maka Tugas Akhir dan nilai ujian Tugas Akhirnya akan dibatalkan.\n",
      "2. Mahasiswa yang melakukan tindakan yang mencemarkan nama baik almamater dapat dikenai sanksi akademik yang ditentukan oleh Dekan.\n",
      "3. Sanksi akademik dikeluarkan oleh Dekan setelah melalui proses dalam waktu yang sesingkat-singkatnya.\n",
      "4. Jika sanksi akademik berupa penghentian sementara kegiatan akademik, maka waktu penghentian sementara tersebut akan diperhitungkan dalam batas waktu lama studi.\n",
      "5. Mahasiswa yang terbukti melakukan tindak pidana yang dikuatkan dengan putusan pengadilan akan dikenakan sanksi akademik berupa skorsing jika dipidana kurang dari satu tahun, dan diberhentikan sebagai mahasiswa Universitas Brawijaya jika dipidana lebih dari satu tahun.\n",
      "\n",
      "Selain itu, terdapat juga sanksi administrasi yang dapat diberikan kepada mahasiswa yang melanggar ketentuan administrasi atau batas waktu administrasi. Sanksi administrasi dapat berupa pembatalan rencana studi semester, pembatalan ujian semua mata kuliah dalam semester, pembatalan KRS untuk semua mata kuliah dalam semester, pembatalan mata kuliah yang diambil pada semester tersebut, atau skorsing minimal 2 semester.\n",
      "\n",
      "Itulah peraturan tentang kecurangan dan sanksi di Universitas Brawijaya.\n"
     ]
    }
   ],
   "source": [
    "qs = [\n",
    "    \"Bagaimana standar kriteria penilaian seminar hasil?\",\n",
    "    \"Berapakah jumlah SKS yang harus di selesaikan seorang mahasiswa agar dikatakan lulus?\",\n",
    "    \"Apa itu transfer kredit dan pengakuan kredit?\",\n",
    "    \"Apa yang dimaksud dengan string theory?\",\n",
    "    \"Jelaskan peraturan tentang kecurangan dan sanksi!\",\n",
    "    \"Apa saja referensi yang dapat digunakan untuk mata kuliah Rekayasa Perangkat Lunak?\",\n",
    "]\n",
    "\n",
    "for i, q in enumerate(qs):\n",
    "    answer = ask_1(q)[0]\n",
    "    print(f\"A{i + 1}: {answer}\")"
   ]
  },
  {
   "cell_type": "code",
   "execution_count": 156,
   "metadata": {},
   "outputs": [
    {
     "data": {
      "text/plain": [
       "('Tidak ada informasi yang ditunjukkan dalam konteks yang diberikan tentang referensi yang dapat digunakan untuk mata kuliah Rekayasa Perangkat Lunak.',\n",
       " [Document(page_content='akhir yang akan diangkat oleh mahasiswa. Jika dosen pembimbing atau calon dosen pembimbing menganggap bahwa mata kuliah wajib yang sudah ditempuh mencukupi sebagai bekal untuk mengerjakan skripsi/tugas akhir maka mata kuliah pilihan yang diambil dapat berfungsi sebagai pengayaan/penguatan kompetensi. 4. Untuk jalur selain Reguler dan Merdeka Belajar 1 Semester di Dalam UB, topik skripsi/tugas akhir yang akan diangkat disesuaikan dengan kompetensi wajib dasar Prodi dan dapat dikaitkan dengan mata kuliah sesuai paket skema Kurikulum Merdeka yang diambil.  A. Mata Kuliah Pilihan Stream Pengembangan Full Stack  Stream ini memberikan pengayaan kompetensi bagi mahasiswa dalam bidang pengembangan full stack. Beberapa bahan kajian utama yang dibahas pada stream ini antara lain: \\x00 Pengelolaan sumber daya proyek perangkat lunak \\x00 Penerapan pola–pola perancangan dalam pengembangan sistem perangkat lunak \\x00 Pemanfaatan webservice dan arsitektur microservice dalam pembangunan sistem perangkat lunak', metadata={'source': '../pdfs/Kurikulum Teknik Informatika - FILKOM 2020 v1.9.pdf', 'page': 16}),\n",
       "  Document(page_content='Panduan Skripsi | Fakultas Ilmu Komputer  UB | Versi 3.0 \\n \\nInformasi yang terdapat dalam dokumen ini dibuat dan dikelola oleh Fakultas Ilmu Komputer Universitas \\nBrawijaya (Filkom UB). Dokumen ini menjadi hak milik Filkom UB. Dilarang memodifikasi dan \\nmereproduksi dokumen ini tanpa  izin tertulis dari Filkom UB.    54 \\n \\uf0b7 Zotero, aplikasi pengelola referensi, dikom binasi dengan program pengolah \\nkata, seperti MS Word, dan sebagainya.  \\n3.6.6.2  Kegunaan perujukan  \\nBeberapa manfaat dari perujukan adalah sebagai berikut:  \\n1. Menghubungkan hasil karya penulis dengan disiplin ilmu terkait  \\nDengan melakukan perujukan, penulis telah membangun studinya di atas apa \\nyang telah dikerjakan oleh orang lain. Dengan demikian ia dapat \\nmenunjukkan di mana posisi karyanya dalam disiplin ilmu terkait.   \\n2. Membantu pembaca mencari rujukan  \\nPembaca yang membac a karya penulis dan berminat untuk belajar lebih \\nlanjut dari ilmu atau karya terkait dapat menggunakan rujukan -rujukan dalam', metadata={'source': '../pdfs/PanduanSkripsiFilkom-v3.0.pdf', 'page': 75}),\n",
       "  Document(page_content='Muka + 1 SKS Praktikum) Semester Genap DESKRIPSI MATA KULIAH Dalam mata kuliah ini mahasiswa diberikan pemahaman tentang cara menentukan serta mengimplementasikan struktur data dan algoritma yang tepat untuk menyelesaikan suatu masalah tertentu', metadata={'source': '../pdfs/Kurikulum Teknik Informatika - FILKOM 2020 v1.9.pdf', 'page': 48}),\n",
       "  Document(page_content='skripsi yang terdapat pada masing -masing program studi. Dengan demikian, \\ndokumen skripsi  memberikan panduan bagi mahasiswa melakukan penelitian \\n(masa pembimbingan) dan menyusunnya dalam bentuk skripsi disesuaikan \\ndengan kekhususan bidang skrips i tersebut.', metadata={'source': '../pdfs/PanduanSkripsiFilkom-v3.0.pdf', 'page': 46}),\n",
       "  Document(page_content='dan prosiding penelitian yang terkait dengan materi pembelajaran PRASYARAT (Jika ada) 1. Jaringan Komputer  NAMA MATA KULIAH Nama Internet of Things Kode MK CIF61070 Kredit (SKS) 3 Semester Ganjil DESKRIPSI MATA KULIAH', metadata={'source': '../pdfs/Kurikulum Teknik Informatika - FILKOM 2020 v1.9.pdf', 'page': 93})])"
      ]
     },
     "execution_count": 156,
     "metadata": {},
     "output_type": "execute_result"
    }
   ],
   "source": [
    "ask_1(\"Apa saja referensi yang dapat digunakan untuk mata kuliah Rekayasa Perangkat Lunak?\")"
   ]
  },
  {
   "cell_type": "markdown",
   "metadata": {},
   "source": [
    "### Multi Query"
   ]
  },
  {
   "cell_type": "code",
   "execution_count": 159,
   "metadata": {},
   "outputs": [],
   "source": [
    "import logging\n",
    "\n",
    "logging.basicConfig()\n",
    "logging.getLogger(\"langchain.retrievers.multi_query\").setLevel(logging.INFO)\n",
    "\n",
    "ret = qdrant.as_retriever(\n",
    "            search_type=\"mmr\",\n",
    "            search_kwargs={'k': 6, 'lambda_mult': 0.25}\n",
    "        )\n",
    "retriever = MultiQueryRetriever.from_llm(\n",
    "    retriever=ret,\n",
    "    llm=llm,\n",
    ")"
   ]
  },
  {
   "cell_type": "code",
   "execution_count": 153,
   "metadata": {},
   "outputs": [
    {
     "data": {
      "text/plain": [
       "[Document(page_content='produk /artefak  utama pada tipe penelitian ini sangat mungkin diperlukan sebuah \\nperangkat lunak/keras yang perlu dikembangkan sendiri. Namun demikian, \\nperangkat lunak/keras tersebut bukan sebagai fokus kajian dan hanya sebagai \\nalat bantu saja untuk menghasil kan kajian yang valid.  \\n2.3 Aspek Kelayakan  Skripsi  \\nAspek kelayakan skripsi merupakan kriteria mendasar yang harus dipenuhi \\noleh sebuah skripsi  untuk menunjukkan bahwa  penelitian skripsi yang akan \\ndilakukan oleh mahasiswa sudah sesuai dengan minat studi yang se lama ini \\nditekuninya dan mengacu pada pencapaian  salah satu profil lulusan suatu prodi . \\nDalam pelaksanaannya, aspek kelayakan ini diukur berdasarkan asesmen \\nterhadap usulan skripsi dalam bentuk proposal yang dilakukan di awal proses \\nskripsi  oleh Kaprodi . Penilaian tersebut akan dikaji oleh  Kaprodi   sebagai dasar \\nuntuk menentukan Calon Pembimbing mahasiswa dalam proses pelaksanaan \\nskripsi dan menentukan kesesuaian topik yang dituliskan dalam proposal', metadata={'source': '../pdfs/PanduanSkripsiFilkom-v3.0.pdf', 'page': 30}),\n",
       " Document(page_content='dimengerti dan diterjemahkan, biasanya dengan \\nperhitungan rata -rata, distribusi frekuensi, dan \\ndistribusi persentase.  \\nAnalisis Faktor  Analisis yang dilakukan untuk mengetahui faktor -faktor \\napa yang berpengaruh terhadap terjadinya sebuah \\nmasalah dengan jalan mereduksi faktor dan menarik \\nkesimpulan dari faktor tersebut.  \\nAnalisis Korelasi  Analisis yang dilakukan untuk menguku r seberapa \\nbesar hubungan yang terjadi antara dua buah variabel.  \\nAnalisis Multivariat  Analisis statistik yang dilakukan untuk mengetahui \\nhubungan secara simultan antar variabel.  \\nAnalisis Regresi  Analisis yang dilakukan untuk mengukur hubungan \\nyang terjadi antara variabel bebas dan variabel terikat \\ndari data -data yang ada.  \\nAnalisis Variansi  Analisis yang dilakukan untuk mengetahui perbedaan \\nkarakteristik dari dua atau lebih populasi yang \\nbersesuaian.  \\nBidang Skripsi  Kategori penelitian skripsi yang didasarkan pada bidang \\nkeilmuan tertentu sesuai dengan minat studi \\nmahasiswa.', metadata={'source': '../pdfs/PanduanSkripsiFilkom-v3.0.pdf', 'page': 17}),\n",
       " Document(page_content='perpanjangan skripsi hanya pada 1 (satu) semester berikutnya  sesuai \\ndengan hasil evaluasi akhir semester yang dilakukan . \\nc. Jika mahasiswa belum juga bisa menuntaskan skripsi pada semester \\nkedua skripsi pada saat dilakuk an evaluasi  akhir semester, maka \\nmahasiswa dinyatakan gagal dan wajib memulai lagi dari tahapan \\nPraproposal dengan topik yang baru.  \\n11. Mekanisme perpanjangan skripsi yaitu :', metadata={'source': '../pdfs/PanduanSkripsiFilkom-v3.0.pdf', 'page': 114}),\n",
       " Document(page_content='untuk menentukan Calon Pembimbing mahasiswa dalam proses pelaksanaan \\nskripsi dan menentukan kesesuaian topik yang dituliskan dalam proposal \\nterhadap kompetensi dan profil lulusan pr ogram studi. Pene ntuan Calon \\nPembimbing didasarkan pada bidang keahlian dosen  dan distribusi beban \\nbimbingan skripsi . Penilaian aspek kelayakan dilakukan berdasarkan atas \\nbeberapa kriteria dengan melakukan evaluasi terhadap terpenuhinya indikator -\\nindikator yang diminta pad a setiap kriteria. Apabila semua kriteria kelayakan \\nusulan skripsi telah dipenuhi, maka mahasiswa dapat mengikuti tahapan \\nselanjutnya pada usulan penelitiannya. Kriteria -kriteria kelayakan usulan \\nproposal skripsi yang harus dipenuhi adalah sebagai berikut:  \\n1. Relevansi proposal skripsi  \\nKriteria ini menunjukkan kesesuaian proposal skripsi terhadap \\nkarakteristik umum skripsi , dengan mengacu pada indikator -indikator berikut:  \\na. Memiliki kecukupan pengetahuan dan/atau keahlian untuk melakukan', metadata={'source': '../pdfs/PanduanSkripsiFilkom-v3.0.pdf', 'page': 30}),\n",
       " Document(page_content='evaluasi kritis terhadap hasil yang diperoleh . Tergantung dari fokus penelitia n, \\nbeberapa contoh pertanyaan kritis yang dapat dijawab adalah:  \\n\\uf0b7 Seberapa jauh tujuan penelitian telah tercapai?  \\n\\uf0b7 Apakah aplikasi atau sistem yang dibangun sesuai dengan tujuannya?  \\n\\uf0b7 Apakah metode atau praktik perancangan dan implementasi yang baik telah \\ndijalankan?  \\n\\uf0b7 Apakah teknologi implementasi yang tepat telah dipilih?  Dan sebagainya . \\nDalam menjelaskan pemahaman baru yang didapatkan, penulis dapat \\nmengubungkan hasil penelitian dengan pengetahuan teoritik atau penelitian', metadata={'source': '../pdfs/PanduanSkripsiFilkom-v3.0.pdf', 'page': 63}),\n",
       " Document(page_content='wawancara). Latar belakang harus bisa menunjukkan  mengapa \\npermasalahan yang diangkat dianggap penting.  \\nb. Rumusan masalah , menuliskan masalah yang akan diselesaikan atau \\npertanyaan yang akan dijawab dalam bentuk pertanyaan penelitian.  \\nc. Tujuan , dituliskan dalam kalimat pernyataan yang sederhana dan jelas \\nsesuai dengan masalah penelitian dan hasil yang ingin dic apai.  \\nd. Manfaat penelitian , menuliskan kontribusi skripsi terhadap ruang lingkup \\nyang lebih luas dan/atau terhadap para pemangku kepentingan \\n(stakeholders) . \\ne. Batasan masalah , menjelaskan ruang lingkup masalah penelitian dengan \\nmenyatakan hal -hal yang menjadi batasan.  \\nf. Sistematika laporan , menunjukkan susunan laporan skripsi dari \\npendahuluan hingga kesimpulan.  \\n3. Kelayakan l andasan kepustakaan  \\nKriteria ini menunjukkan bahwa bagian  landasan kepustakaan proposal \\nskripsi sudah dituliskan dengan cukup baik, dengan mengacu pada indikator -\\nindikator berikut:', metadata={'source': '../pdfs/PanduanSkripsiFilkom-v3.0.pdf', 'page': 31}),\n",
       " Document(page_content='kecukupan , untuk mengukur tingkat kesesuaia n dan kedalaman skripsi \\nsebagaimana yang diinginkan.  \\n2.2 Klasifikasi Tipe Penelitian pada Skripsi  \\nTipe penelitian skripsi perlu didefinisikan secara jelas untuk menjadi acuan di \\ndalam menilai kedalaman sebuah skripsi. Tipe penelitian ini diklasifikasikan \\nberda sarkan produk /artefak  utama yang dihasilkan dari proses penelitian  skripsi   \\ntersebut, yaitu perangkat lunak  (software ), perangkat keras  (hardware ), \\nkerangka kerja  (framework ), jaringan  komputer , prototipe  (dari perangkat \\nlunak/keras ), model  konseptual , produk instruksional , atau hasil', metadata={'source': '../pdfs/PanduanSkripsiFilkom-v3.0.pdf', 'page': 27}),\n",
       " Document(page_content='jika mahasiswa memiliki alasan kuat yang mendasari. Untuk mendapatkan penanganan keluhan \\nnilai, ada 2 tahap berjenjang yang dapat ditempuh:  \\n1. Mahasiswa harus terlebih dahulu mencoba menyelesaikan masalah tersebut melalui \\ndiskusi dengan dosen pengampu/pemberi keputusan akademik yang dikeluhkan;  \\n2. Jika masalah tidak dapat diselesaikan secara memuaskan setelah langkah pada poin 1 \\nditempuh, mahasiswa dapat mengajukan keluhan secara tertuli s untuk meminta \\npeninjauan oleh Ketua Program Studi paling lambat satu minggu setelah pemberitahuan \\nnilai.  \\n9. Setiap mahasiswa yang akan mengikuti ujian akhir semester harus memenuhi syarat -syarat \\nsebagai berikut:  \\na. Terdaftar secara resmi sebagai mahasiswa untu k semester yang sedang berjalan.  \\nb. Telah memenuhi syarat -syarat administrasi akademik yang ditentukan.  \\nc. Telah mengikuti kehadiran minimal 80% dari perkuliahan yang diberikan oleh dosen, \\nkecuali bila mahasiswa :', metadata={'source': '../pdfs/Buku-Pedoman-Akademik-FILKOM-2020.pdf', 'page': 16})]"
      ]
     },
     "execution_count": 153,
     "metadata": {},
     "output_type": "execute_result"
    }
   ],
   "source": [
    "retriever.get_relevant_documents(\"Bagaimana aspek kelayakan skripsi?\")"
   ]
  },
  {
   "cell_type": "code",
   "execution_count": 154,
   "metadata": {},
   "outputs": [],
   "source": [
    "\n",
    "from langchain.prompts import PromptTemplate\n",
    "from langchain.chains import LLMChain\n",
    "\n",
    "QA_PROMPT = PromptTemplate(\n",
    "    input_variables=[\"query\", \"contexts\"],\n",
    "    template=\"\"\"Anda adalah chatbot Universitas Brawijaya yang tugasnya adalah membantu \\\n",
    "        pertanyaan dari tamu. Apabila suatu pertanyaan tidak dapat dijawab dari \\\n",
    "        informasi yang diberikan, maka jawab dengan \"Saya Tidak Bisa Menjawab Pertanyaan Di Luar Universitas Brawijaya\".\n",
    "\n",
    "    Konteks:\n",
    "    {contexts}\n",
    "\n",
    "    Pertanyaan: \\n{query}\n",
    "    Jawaban: \\n\"\"\",\n",
    ")\n",
    "\n",
    "qa_chain = LLMChain(llm=llm, prompt=QA_PROMPT)\n",
    "\n",
    "def ask(questions):\n",
    "    docs = retriever.get_relevant_documents(questions)\n",
    "    answers = qa_chain.run({\n",
    "        \"query\": questions,\n",
    "        \"contexts\": \"\\n---\\n\".join([d.page_content for d in docs])\n",
    "    })\n",
    "    \n",
    "    return answers, docs"
   ]
  },
  {
   "cell_type": "code",
   "execution_count": 125,
   "metadata": {},
   "outputs": [
    {
     "name": "stderr",
     "output_type": "stream",
     "text": [
      "INFO:langchain.retrievers.multi_query:Generated queries: ['1. Apa saja kriteria standar yang digunakan untuk menilai hasil seminar?', '2. Bagaimana kriteria penilaian yang biasa dipakai untuk mengevaluasi seminar?', '3. Apa saja faktor yang digunakan untuk menentukan kualitas hasil seminar?']\n"
     ]
    },
    {
     "name": "stdout",
     "output_type": "stream",
     "text": [
      "Standar kriteria penilaian seminar hasil adalah sebagai berikut:\n",
      "\n",
      "1. Sistematika Presentasi (A): menilai kelengkapan presentasi yang disusun oleh mahasiswa, termasuk latar belakang, tujuan, rumusan masalah, tinjauan pustaka, landasan teori, metodologi penelitian, pembahasan hasil, kesimpulan, dan saran.\n",
      "\n",
      "2. Kemampuan menjelaskan poin-poin penting (B): menilai kemampuan mahasiswa dalam menjelaskan poin-poin penting dalam presentasi, termasuk latar belakang, tujuan, rumusan masalah, tinjauan pustaka, landasan teori, metodologi penelitian, pembahasan hasil, kesimpulan, dan saran.\n",
      "\n",
      "3. Teknik presentasi (C): menilai teknik presentasi mahasiswa, termasuk kejelasan suara, artikulasi, intonasi, kepercayaan diri, dan kemampuan mahasiswa dalam menarik perhatian peserta sidang.\n",
      "\n",
      "4. Sikap dan perilaku (D): menilai sikap dan perilaku mahasiswa selama presentasi, termasuk kerapian pakaian, sikap, dan keantusiasan.\n",
      "\n",
      "5. Kreativitas presentasi (E): menilai kekreatifan mahasiswa dalam menyusun slide presentasi, termasuk desain slide, dukungan multimedia, dan kejelasan dalam menampilkan materi.\n",
      "\n",
      "6. Kemampuan mengatur waktu presentasi (F): menilai kemampuan mahasiswa dalam mengatur waktu presentasi agar sesuai dengan batas waktu yang telah ditentukan.\n",
      "\n",
      "Nilai seminar hasil (Nsh) dihitung berdasarkan rata-rata dari 6 komponen nilai tersebut, yang kemudian diubah ke skala 100.\n"
     ]
    }
   ],
   "source": [
    "q1 = ask(\"Bagaimana standar kriteria penilaian seminar hasil?\")\n",
    "print(q1[0])"
   ]
  },
  {
   "cell_type": "code",
   "execution_count": 126,
   "metadata": {},
   "outputs": [
    {
     "data": {
      "text/plain": [
       "[Document(page_content='yang belum lulus, maka hanya bisa dijadwalkan untuk seminar hasil \\n(dalam hal ini, persyaratan menyerahkan transkrip bisa ditangguhkan \\ndulu), dan jadwal ujian bisa dilakukan setelah semua nilai lulus \\n(persayaratan menyerahkan transkrip sudah dipenuhi).  \\n2. Mahasiswa melengkapi  form ulir Persyaratan Seminar Hasil dan Ujian S kripsi \\n(SC2 -01) dan form ulir Pendaftaran Seminar Hasil dan U jian Skripsi (SC2 -02). \\n3. Akademik J urusan memverifikasi persyaratan.  Apabila persyaratan ini belum \\nlengkap , mahasiswa wajib melengkapi nya. \\n4. Jika seluruh persyaratan sudah lengkap, maka Sekjur dapat melakukan \\npersiapan seminar hasil dan ujian skripsi.  \\na. Sekjur menjadwalkan seminar hasil yaitu menentukan jadwal dan \\nfasilitator seminar hasil. Jadwal seminar hasil dikeluarkan oleh Akademik \\nFakultas dengan jumlah peserta 3 ma hasiswa (untuk 1 sesi seminar). \\nFasilitator ditetapk an oleh Sekjur berdasarkan daftar dosen yang \\nditetapkan oleh Wakil Dekan 1 setiap beberapa periode.', metadata={'source': '../pdfs/PanduanSkripsiFilkom-v3.0.pdf', 'page': 118}),\n",
       " Document(page_content='evaluasi kritis terhadap hasil yang diperoleh . Tergantung dari fokus penelitia n, \\nbeberapa contoh pertanyaan kritis yang dapat dijawab adalah:  \\n\\uf0b7 Seberapa jauh tujuan penelitian telah tercapai?  \\n\\uf0b7 Apakah aplikasi atau sistem yang dibangun sesuai dengan tujuannya?  \\n\\uf0b7 Apakah metode atau praktik perancangan dan implementasi yang baik telah \\ndijalankan?  \\n\\uf0b7 Apakah teknologi implementasi yang tepat telah dipilih?  Dan sebagainya . \\nDalam menjelaskan pemahaman baru yang didapatkan, penulis dapat \\nmengubungkan hasil penelitian dengan pengetahuan teoritik atau penelitian', metadata={'source': '../pdfs/PanduanSkripsiFilkom-v3.0.pdf', 'page': 63}),\n",
       " Document(page_content='ditanyakan  \\n5. Kualitas artefak : menilai kualitas dari artefak . Kriteria ini meliputi 3 aspek \\nyaitu: tingkat penguasaan mahasiswa terhadap artefak, tingkat validitas \\nartefak, dan tingkat ketuntasan artefak.  \\n4.3 Standar Penilaian Kelulusan Skripsi  \\n1. Nilai skripsi adalah nilai yang diperoleh dari Pembimbing  dan nilai oleh \\nPenguji.  \\n2. Penilaian skripsi dan ujian skripsi dilakukan oleh Pembimbing  dan Penguji . \\nJumlah Penguji  adalah 2 orang.  \\n3. Tahapan penilaian mencakup 3 tahap penilaian yaitu nilai pada tahapan \\nseminar hasil, nilai pada saat ujian skripsi, dan nilai naskah publikasi dengan \\nbobot masing -masing adalah nilai seminar hasil adalah 5%, nilai ujian skripsi \\nadalah 85%, dan nilai naskah  publikasi 10%.  \\n4. Nilai naskah publikasi (Nsp) menggunakan rentang nilai 0 -100.  \\n5. Secara umum, pembagian bobot penilaian antara Pembimbing dan Penguji \\nadalah 60% berbanding 40%, jika dalam suatu komponen dibutuhkan', metadata={'source': '../pdfs/PanduanSkripsiFilkom-v3.0.pdf', 'page': 94}),\n",
       " Document(page_content='kriteria dan indikator yang telah ditetapkan \\nberdasarkan masing -masing tipe penelitian dan bidang \\nskripsi  mahasiswa . \\nKelayakan Skripsi  Aspek asesmen yang dilakukan oleh Kaprodi  di awal \\nproses skripsi untuk mengukur tingkat relevansi \\npenelitian yang dilakukan pada skripsi (yang \\ndirepresentasikan dengan  proposal skripsi) dengan \\nkarakteristik prodi dimana mahasiswa sedang \\nmenempuh pendidikan sarjananya dan mengukur \\ntingkat kesiapan mahasiswa untuk menyelesaikan \\nskripsi . \\nKerangka Kerja \\n(framework ) Seperangkat konsep, aturan, aktivitas, dan/atau \\nprosedur u ntuk mencapai tujuan tertentu dan \\nmerupakan struktur dasar atau pembangun dari \\nsesuatu (misalkan sistem atau metodologi) dalam \\nsuatu domain permasalahan tertentu.', metadata={'source': '../pdfs/PanduanSkripsiFilkom-v3.0.pdf', 'page': 18}),\n",
       " Document(page_content='40 \\n 7. Proses Pengakuan besarnya satuan kredit dan nilai mata kuliah khusus ter sebut dilakukan \\noleh Ketua Program Studi atau Komite penilai yang ditugaskan oleh Dekan berdasarkan \\ndokumen hasil penilaian kegiatan merdeka belajar tersebut.  \\n8. Kredit dan nilai yang diperoleh dari kegiatan merdeka belajar dapat diakui dan dicantumkan \\npada t ranskrip nilai mahasiswa, serta dapat merupakan bagian dari syarat minimal kelulusan \\nprogram sarjana yaitu 144 sks .', metadata={'source': '../pdfs/Buku-Pedoman-Akademik-FILKOM-2020.pdf', 'page': 39}),\n",
       " Document(page_content='3. Teknik presentasi  (C): menilai teknik presentasi mahasiswa meliputi: \\nkejelasan suara, artikulasi, intonasi, kepercayaan diri, dan kemampuan \\nmahasiswa dalam menarik perhatian peserta sidang.  \\n4. Sikap dan perilaku  (D):  menilai sikap dan perilaku mahasiswa meliputi: \\nkerapian pakai an, sikap, dan keantusiasan saat presentasi.  \\n5. Kreati vitas presentasi  (E): menilai kekreatifan mahasiswa dalam menyusun \\nslide meliputi: desain slide, dukungan multimedia, dan kejelasan \\nmenampilkan materi.  \\n6. Kemampuan mengatur waktu presentasi di luar demo  (F): menilai \\nkemampuan mahasiswa dalam mengatur waktu presentasi.  \\n \\nNilai seminar hasil (\\nNsh ) adalah nilai rata -rata dari 6 komponen nilai  yang sudah  \\ndiskalakan ke 100 , dihitung dengan formula:  \\n \\n \\n4.2 Standar Kriteria Penilaian Skripsi  \\nKriteria penilaian skripsi dibuat agar menjadi panduan bagi Pembimbing dan \\nPenguji dalam memberikan penilaian terhadap skripsi yang dibuat oleh', metadata={'source': '../pdfs/PanduanSkripsiFilkom-v3.0.pdf', 'page': 93}),\n",
       " Document(page_content='dalam memberikan penilaian terhadap performa mahasiswa. Penilaian dilakukan \\ndengan menggunakan skala angka 1 sampai 7, dimana angka 7 menunjukkan nilai \\ntertinggi. Kriteria penilaian seminar hasil adalah sebagai berikut:  \\n1. Sistematika Presentasi  (A): menilai kelengkapan presentasi yang disusun \\nmahasiswa. Kelengkapan presentasi meliputi: Latar Belakang, Tujuan, \\nRumusan Masalah, Tinjauan Pustaka, Landasan teori, Metodologi Penelitian, \\nPembahasan hasil, Kesimpulan dan Saran.  \\n2. Kemampuan menjelaskan poin -poin penting  (B): menilai kemampuan \\nmahasiswa dalam menjelaskan poin -poin penting meliputi: Latar Belakang, \\nTujuan, Rumusan Masal ah, Tinjauan Pustaka, Landasan T eori, Metodologi \\nPenelitian, Pembahasan Hasil, Kesimpulan dan Saran  \\n3. Teknik presentasi  (C): menilai teknik presentasi mahasiswa meliputi: \\nkejelasan suara, artikulasi, intonasi, kepercayaan diri, dan kemampuan \\nmahasiswa dalam menarik perhatian peserta sidang.', metadata={'source': '../pdfs/PanduanSkripsiFilkom-v3.0.pdf', 'page': 93}),\n",
       " Document(page_content='digunakan untuk menyamakan persepsi di antara mahasiswa dan seluruh \\nPembimbing  serta menentukan t arget capaian skripsi yang akan dilakukan.  \\n4. Penilaian kemajuan 1  (P1). Penilaian  dilakukan di antara mahasiswa dan \\nseluruh Pembimbing  (bisa dilakukan terpisah dengan masing -masing \\nPembimbing ) pada salah satu hari di antara  awal pekan kesembilan  sampai \\ndenga n awal pekan ketigabelas  Semester Skripsi untuk melakukan evaluasi \\nketercapaian target minimal 50% skripsi  sebagaimana telah ditentukan di P0 . \\n5. Penilaian kemajuan 2  (P2). Penilaian  dilakukan di antara mahasiswa dan \\nseluruh Pembimbing  (bisa dilakukan terpisah dengan masing -masing \\nPembimbing ) pada salah satu hari di antara awal pekan kesebelas sampai \\ndengan awal pekan kesembilanbelas Semester Skripsi untuk melakukan \\nevaluasi ketercapaian target minimal 80% skripsi  sebagaimana telah \\nditen tukan di P0 . \\n6. Evaluasi akhir semester . Evaluasi yang dilakukan terhadap keberlanjutan', metadata={'source': '../pdfs/PanduanSkripsiFilkom-v3.0.pdf', 'page': 100}),\n",
       " Document(page_content='merupakan agregasi dari Sub Capaian Pembelajaran Matakuliah (SubCPMK).  \\n7. Pelaksanaan penilaian dapat dilakukan oleh:  \\na. dosen pengampu atau tim dosen pengampu;  \\nb. dosen pengampu atau tim dosen pengampu dengan mengikutsertakan mahasiswa; \\ndan/atau  \\nc. dosen pengampu atau tim dosen pengampu dengan mengikutsertakan pemangku \\nkepentingan yang relevan   \\n8. Berikut adalah contoh bentuk penilaian berbasis OBE dapat digunakan:  \\na. Bentuk Essai seperti ujian essay, open book, tugas take home.  \\nb. Test objektif seperti pilihan ganda dan hasil yang diarahkan  \\nc. Penilaian kinerja seperti praktikum, seminar/presentasi, proyek, studi kasus, wawancara, \\njurnal review,  \\n9. Mekanisme penilaian berbasis OBE ditetapkan dan disampaikan p ada buku pedoman OBE \\nsecara terpisah.  \\n \\nH. PERHITUNGAN INDEKS PRESTASI  \\n1. Keberhasilan studi mahasiswa dinyatakan dengan Indeks Prestasi (IP).  \\n2. Untuk menghitung Indeks Prestasi, nilai huruf diubah menjadi nilai bobot dengan ketentuan', metadata={'source': '../pdfs/Buku-Pedoman-Akademik-FILKOM-2020.pdf', 'page': 18}),\n",
       " Document(page_content='Pada kriteria ini terdapat 4 aspek penilaian yaitu: kemampuan mendefinisikan \\nmasalah, penyusunan metodologi, kemampuan untuk membahas sesuai \\ndengan aspek kecukupan pada topik penelitian, dan penulisan yang \\nmemenuhi kaidah yang  benar.  \\n3. Kualitas presentasi : menilai kualitas dari materi dan cara presentasi \\nmahasiswa saat ujian skripsi. Kriter ia ini meliputi 6 aspek yaitu: sistematika \\npresentasi, kemampuan presentasi,  teknik presentasi, sikap dan perilaku, \\nkreatifitas presentasi, da n manajemen waktu presentasi  \\n4. Kualitas argumentasi  jawaban : menilai kualitas dari jawaban mahasiswa saat \\nmenjawab pertanyaan dari Penguji.  Kriteria ini meliputi 4 aspek yaitu: akurasi \\njawaban, kemampuan merespon jawaban, sikap dan perilaku , dan \\npengetahuan komprehensif aspek teori dan praktis dari subyek yang \\nditanyakan  \\n5. Kualitas artefak : menilai kualitas dari artefak . Kriteria ini meliputi 3 aspek \\nyaitu: tingkat penguasaan mahasiswa terhadap artefak, tingkat validitas', metadata={'source': '../pdfs/PanduanSkripsiFilkom-v3.0.pdf', 'page': 94}),\n",
       " Document(page_content='B. SEMINAR PROPOSAL  \\n1. Seminar proposal adalah penyampaian rencana skripsi mahasiswa di depan dosen pengu ji \\nyang merupakan calon pembimbing skripsi.  \\n2. Seminar proposal dijadwalkan pada satu hari tertentu pada pekan -pekan yang sudah \\nditentukan.  \\n3. Pelaksanaan seminar proposal dikoordinasikan dengan dosen penguji untuk menentukan \\nwaktu pelaksanaan seminar proposal  \\n4. Berita acara pelaksanaan seminar proposal diserahkan ke akademik jurusan.  \\n5. Ketentuan lain seminar proposal diatur tersendiri dalam Buku Panduan Skripsi Fakultas Ilmu \\nKomputer.  \\nC. SEMINAR HASIL  \\n1. Seminar Hasil adalah kegiatan yang harus dilakukan oleh seorang mahasiswa yang telah \\nmenuntaskan skripsinya dalam bentuk presentasi hasil -hasil penelitian skripsi yang telah \\ndilakukan di depan Dosen Fasilitator dan sejumlah mahasiswa yang lain.  \\n2. Seminar hasil dijadwalkan pada satu hari tertentu  pada pekan -pekan yang sudah ditentukan.', metadata={'source': '../pdfs/Buku-Pedoman-Akademik-FILKOM-2020.pdf', 'page': 41}),\n",
       " Document(page_content='Prosedur Operasional Standar  Skripsi  beserta Instruksi Kerja yang dibutuhkan . \\nPembahasan pada Bagian 1 m eliputi Bab Pendahuluan yang menjelaskan  latar \\nbelakang, tujuan dan kegunaan, ruang lingkup , dan sistematika p embahasan', metadata={'source': '../pdfs/PanduanSkripsiFilkom-v3.0.pdf', 'page': 24}),\n",
       " Document(page_content='mining  (analisa dan rekomendasi) . \\nB.3.2  Bidang Skripsi MDI: Nonimplementatif  \\nB.3.2.1  Bidang Skripsi MDI: Nonimplementatif -Analitik  \\nNo Kriteria  Indikator  \\n1 Hipotesis  1. Hipotesis mencakup dampak penerapan data \\nwarehouse , business intelligence , basis data \\nterdistribusi, dan data mining  pada tujuan bisnis \\norganisasi.  \\n2. Penentuan variabel penelitian berdasarkan studi \\npustaka  pada topik yang sama dalam kurun waktu 5  \\ntahun terakhir.', metadata={'source': '../pdfs/PanduanSkripsiFilkom-v3.0.pdf', 'page': 160}),\n",
       " Document(page_content='strategi, dan evaluasi pembelajaran di bidang \\nTI, atau  pengembangan perangkat lunak yang \\ndapat menyelesaikan permasalahan \\nmanajemen pendidikan.  Perangkat \\nlunak atau \\nrancang an \\nperangkat \\nlunak atau  \\nkerangka \\nkerja atau \\nmodel  \\nkonseptual  Instrumen \\npenelitian \\nyang valid dan  \\nandal , hasil \\nanalisis \\nterhadap data \\nyang \\ndidapatkan \\ndari instrumen \\npenelitian  \\n2 Tipe Nonimplementatif : \\nKajian tentang kompetensi siswa, guru, \\npekerja industri, dan proses pembelajaran baik \\npada aspek perencanaan, pelaksanaan, dan \\npenilaian pembelajaran di bidang TI, atau \\neksperimen tentang metode, strategi, media, \\ndan evaluasi pembelajaran di bidang TI. Hasil \\ninvestigasi \\natau hasil \\nanalisis  Instrumen \\npenelitian \\nyang valid dan  \\nandal ; \\ndokumen \\npengembang  \\nan instrumen \\npenelitian ; \\nhasil analisis \\nterhadap data \\nyang \\ndidapatkan \\ndari instrumen \\npenelitian  \\n \\nSpesifikasi kajian utama pada Prodi Teknologi Informasi ditunjukkan pada  \\nTabel  \\u200e2.5.', metadata={'source': '../pdfs/PanduanSkripsiFilkom-v3.0.pdf', 'page': 38})]"
      ]
     },
     "execution_count": 126,
     "metadata": {},
     "output_type": "execute_result"
    }
   ],
   "source": [
    "q1[1]"
   ]
  },
  {
   "cell_type": "code",
   "execution_count": 127,
   "metadata": {},
   "outputs": [
    {
     "name": "stderr",
     "output_type": "stream",
     "text": [
      "INFO:langchain.retrievers.multi_query:Generated queries: ['1. Apa jumlah SKS yang perlu ditempuh oleh seorang mahasiswa agar memenuhi syarat kelulusan?', '2. Bagaimana jumlah SKS yang harus diselesaikan oleh seorang mahasiswa supaya dapat lulus?', '3. Berapa banyak SKS yang harus diambil oleh seorang mahasiswa agar dianggap lulus?']\n"
     ]
    },
    {
     "name": "stdout",
     "output_type": "stream",
     "text": [
      "Seorang mahasiswa harus menyelesaikan minimal 144 SKS untuk dapat dikatakan lulus.\n"
     ]
    }
   ],
   "source": [
    "print(ask(\"Berapakah jumlah SKS yang harus di selesaikan seorang mahasiswa agar dikatakan lulus?\")[0])"
   ]
  },
  {
   "cell_type": "code",
   "execution_count": 128,
   "metadata": {},
   "outputs": [
    {
     "name": "stderr",
     "output_type": "stream",
     "text": [
      "INFO:langchain.retrievers.multi_query:Generated queries: ['1. Bagaimana definisi transfer kredit dan pengakuan kredit?', '2. Apa yang dimaksud dengan transfer kredit dan bagaimana pengakuan kredit bekerja?', '3. Bisa jelaskan apa arti transfer kredit dan pengakuan kredit?']\n"
     ]
    },
    {
     "name": "stdout",
     "output_type": "stream",
     "text": [
      "Transfer kredit adalah proses pengalihan kredit yang diperoleh dari kegiatan pembelajaran di luar program studi ke dalam program studi yang sedang ditempuh. Sedangkan pengakuan kredit adalah proses penghitungan besarnya satuan kredit dan nilai mata kuliah khusus yang diperoleh dari kegiatan merdeka belajar dan dapat dicantumkan di dalam transkrip nilai mahasiswa serta dapat menjadi bagian dari syarat kelulusan program sarjana.\n"
     ]
    }
   ],
   "source": [
    "print(ask(\"Apa itu transfer kredit dan pengakuan kredit?\")[0])"
   ]
  },
  {
   "cell_type": "code",
   "execution_count": 129,
   "metadata": {},
   "outputs": [
    {
     "name": "stderr",
     "output_type": "stream",
     "text": [
      "INFO:langchain.retrievers.multi_query:Generated queries: ['1. Bagaimana string theory dapat dijelaskan secara sederhana?', '2. Apa konsep dasar dalam string theory?', '3. Bagaimana string theory berbeda dari teori fisika konvensional?']\n"
     ]
    },
    {
     "name": "stdout",
     "output_type": "stream",
     "text": [
      "Saya Tidak Bisa Menjawab Pertanyaan Di Luar Universitas Brawijaya.\n"
     ]
    }
   ],
   "source": [
    "print(ask(\"Apa yang dimaksud dengan string theory?\")[0])"
   ]
  },
  {
   "cell_type": "code",
   "execution_count": 130,
   "metadata": {},
   "outputs": [
    {
     "name": "stderr",
     "output_type": "stream",
     "text": [
      "INFO:langchain.retrievers.multi_query:Generated queries: ['1. Berikan penjelasan mengenai peraturan yang mengatur tentang tindakan kecurangan dan sanksi apa yang dapat diberikan?', '2. Tolong jelaskan dengan lebih detail mengenai peraturan yang mengatur tentang kecurangan serta jenis-jenis sanksi yang dapat diberikan.', '3. Apa saja peraturan yang ada terkait kecurangan dan apa konsekuensi atau sanksi yang bisa diberikan sesuai peraturan tersebut?']\n"
     ]
    },
    {
     "name": "stdout",
     "output_type": "stream",
     "text": [
      "Peraturan tentang kecurangan dan sanksi terdapat dalam konteks yang Anda berikan. Menurut informasi tersebut, terdapat dua peraturan terkait kecurangan dan sanksi di Universitas Brawijaya. Yang pertama adalah mengenai mahasiswa yang melakukan pelanggaran, jika disertai ancaman kekerasan, pemberian sesuatu, atau tipu muslihat, maka mahasiswa tersebut akan dikenai sanksi berupa dikeluarkan dari Universitas Brawijaya. Yang kedua adalah mahasiswa yang melakukan kecurangan atau plagiarisme dalam pembuatan Tugas Akhir, maka Tugas Akhir dan nilai ujian Tugas Akhirnya akan dibatalkan.\n"
     ]
    }
   ],
   "source": [
    "print(ask(\"Jelaskan peraturan tentang kecurangan dan sanksi!\")[0])"
   ]
  },
  {
   "cell_type": "code",
   "execution_count": 166,
   "metadata": {},
   "outputs": [
    {
     "name": "stderr",
     "output_type": "stream",
     "text": [
      "INFO:langchain.retrievers.multi_query:Generated queries: ['1. Bagaimana cara mendapatkan referensi yang relevan untuk mata kuliah Rekayasa Perangkat Lunak?', '2. Apa saja sumber bacaan yang dapat dijadikan referensi dalam menjalani mata kuliah Rekayasa Perangkat Lunak?', '3. Bagaimana dapat menemukan sumber referensi yang berkualitas untuk studi Rekayasa Perangkat Lunak?']\n"
     ]
    },
    {
     "name": "stdout",
     "output_type": "stream",
     "text": [
      "Anda dapat menggunakan beberapa referensi berikut untuk mata kuliah Rekayasa Perangkat Lunak:\n",
      "1. Pressman, R.S. (2014). Software Engineering: A Practitioner's Approach. McGraw-Hill Education.\n",
      "2. Somerville, I. (2015). Software Engineering. Pearson.\n",
      "3. Ian, S. & Steward, J.M. (2014). Requirements Engineering: Foundation for Software Quality. Springer.\n",
      "4. Pfleeger, S.L., Atlee, J.M. (2010). Software Engineering: Theory and Practice. Prentice Hall.\n",
      "5. Mohan, B.K. & Ranjithamalar, M. (2010). Software Engineering. South Asia Books.\n"
     ]
    }
   ],
   "source": [
    "print(ask(\"Apa saja referensi yang dapat digunakan untuk mata kuliah Rekayasa Perangkat Lunak?\")[0])"
   ]
  },
  {
   "cell_type": "code",
   "execution_count": 168,
   "metadata": {},
   "outputs": [
    {
     "name": "stderr",
     "output_type": "stream",
     "text": [
      "INFO:langchain.retrievers.multi_query:Generated queries: ['Berapa jumlah SKS untuk mata kuliah Pemrograman Dasar?', 'Apa banyaknya SKS yang dibutuhkan untuk mata kuliah Pemrograman Dasar?', 'Berapa SKS yang diperlukan dalam mata kuliah Pemrograman Dasar?']\n"
     ]
    },
    {
     "name": "stdout",
     "output_type": "stream",
     "text": [
      "Mata kuliah Pemrograman Dasar memiliki 3 SKS.\n"
     ]
    }
   ],
   "source": [
    "print(ask(\"Berapa SKS mata kuliah Pemrograman Dasar?\")[0])"
   ]
  },
  {
   "cell_type": "code",
   "execution_count": 172,
   "metadata": {},
   "outputs": [
    {
     "name": "stdout",
     "output_type": "stream",
     "text": [
      "Saya Tidak Bisa Menjawab Pertanyaan Di Luar Universitas Brawijaya.\n"
     ]
    }
   ],
   "source": [
    "print(ask_1(\"Berapa SKS mata kuliah Pemrograman Dasar?\")[0])"
   ]
  }
 ],
 "metadata": {
  "kernelspec": {
   "display_name": "biyu",
   "language": "python",
   "name": "python3"
  },
  "language_info": {
   "codemirror_mode": {
    "name": "ipython",
    "version": 3
   },
   "file_extension": ".py",
   "mimetype": "text/x-python",
   "name": "python",
   "nbconvert_exporter": "python",
   "pygments_lexer": "ipython3",
   "version": "3.11.5"
  }
 },
 "nbformat": 4,
 "nbformat_minor": 2
}
